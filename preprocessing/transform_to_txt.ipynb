{
 "cells": [
  {
   "cell_type": "code",
   "execution_count": null,
   "id": "c3427da4-9715-454a-ba98-d2048ee5303e",
   "metadata": {},
   "outputs": [],
   "source": [
    "import pandas as pd\n",
    "import os\n",
    "import json\n",
    "import csv"
   ]
  },
  {
   "cell_type": "code",
   "execution_count": null,
   "id": "733ad46d-e726-4c5c-bd75-22365afc176a",
   "metadata": {
    "tags": []
   },
   "outputs": [],
   "source": [
    "data_path = \"detekcia-edge-on-galaxii-classifications.csv\"\n",
    "data = pd.read_csv(data_path)\n",
    "# os.makedirs(\"txt\", exist_ok=True)\n",
    "destination = f\"{os.getcwd()}/yolo/galaxies/labels\""
   ]
  },
  {
   "cell_type": "code",
   "execution_count": null,
   "id": "70125d23-e026-426d-bd35-1333e1668ca1",
   "metadata": {},
   "outputs": [],
   "source": [
    "null_size_data = []\n",
    "\n",
    "for i in range(len(data)):\n",
    "    tasks = json.loads(data.iloc[i, 11])\n",
    "    is_tle = tasks[0][\"value\"]\n",
    "    if is_tle != \"Áno\":\n",
    "        continue\n",
    "\n",
    "    annotations = tasks[1][\"value\"]\n",
    "    subject_data = json.loads(data.iloc[i, 12])\n",
    "    metadata = json.loads(data.iloc[i, 10])\n",
    "    subject_id = str(data.iloc[i,13])\n",
    "    try:\n",
    "        image_name = subject_data[subject_id][\"Filename\"].split(\".\")[0]\n",
    "        image_data = metadata[\"subject_dimensions\"][0]\n",
    "        image_width = image_data[\"naturalWidth\"]\n",
    "        image_height = image_data[\"naturalHeight\"]\n",
    "    except TypeError:\n",
    "        null_size_data.append(image_name)\n",
    "\n",
    "    with open(os.path.join(destination, f\"{image_name}.txt\"), mode='w') as txt_file:\n",
    "        for annotation in annotations:\n",
    "            x = annotation[\"x\"]\n",
    "            y = annotation[\"y\"]\n",
    "            width = annotation[\"width\"]\n",
    "            height = annotation[\"height\"]\n",
    "\n",
    "            fieldnames1 = [0, round((x+(width/2))/image_width, 5), round((y+(height/2))/image_height, 5), round(width/image_width, 5), round(height/image_height,5)]\n",
    "\n",
    "            writer = csv.DictWriter(txt_file, fieldnames=fieldnames1, delimiter=' ')\n",
    "            writer.writeheader()\n",
    "            print(f\"Just made normalized txt file for {image_name}\")\n",
    "\n",
    "print(f\"Corrupted size data: {len(null_size_data)}\")\n",
    "print(null_size_data)"
   ]
  },
  {
   "cell_type": "code",
   "execution_count": null,
   "id": "37e0c33e-3609-4ffb-a45e-3cf3782fe1d0",
   "metadata": {},
   "outputs": [],
   "source": []
  }
 ],
 "metadata": {
  "kernelspec": {
   "display_name": "Python 3 (ipykernel)",
   "language": "python",
   "name": "python3"
  },
  "language_info": {
   "codemirror_mode": {
    "name": "ipython",
    "version": 3
   },
   "file_extension": ".py",
   "mimetype": "text/x-python",
   "name": "python",
   "nbconvert_exporter": "python",
   "pygments_lexer": "ipython3",
   "version": "3.10.6"
  }
 },
 "nbformat": 4,
 "nbformat_minor": 5
}
