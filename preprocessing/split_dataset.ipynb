{
 "cells": [
  {
   "cell_type": "code",
   "execution_count": 7,
   "id": "3b7fda78-2f85-41d8-94d9-2ccb1bf99ea6",
   "metadata": {},
   "outputs": [],
   "source": [
    "import os\n",
    "import random\n",
    "import re\n",
    "import shutil\n",
    "\n",
    "from typing import List"
   ]
  },
  {
   "cell_type": "code",
   "execution_count": 2,
   "id": "56a50426-589e-47b6-a521-2166ddedd9fc",
   "metadata": {},
   "outputs": [],
   "source": [
    "TRAIN_PATH = '../yolo/data/train/images'\n",
    "VAL_PATH = '../yolo/data/val/images'\n",
    "TEST_PATH = '../yolo/data/test/images'"
   ]
  },
  {
   "cell_type": "code",
   "execution_count": 8,
   "id": "7163462a-364a-4c33-a7a9-c5cbc4cdfdce",
   "metadata": {},
   "outputs": [],
   "source": [
    "def get_similiar_files(filename: str, source_path: str) -> List[str]:\n",
    "    match = re.match(r'^fpC-(\\d+)-([a-z])([\\d]+)-([\\d]+)\\.jpg', filename)\n",
    "    group_1 = match.group(1)\n",
    "    group_2 = match.group(3)\n",
    "    group_3 = match.group(4)\n",
    "\n",
    "    similiar_files = []\n",
    "    files = os.listdir(source_path)\n",
    "    for file in files:\n",
    "        match = re.match(rf'^fpC-{group_1}-([a-z]){group_2}-{group_3}\\.jpg', file)\n",
    "        if match:\n",
    "            similiar_files.append(file)\n",
    "\n",
    "    return similiar_files\n",
    "\n",
    "\n",
    "def split_dataset(split_index: float, source_path, destination_path):\n",
    "    count = 0\n",
    "    while count < split_index:\n",
    "        files = os.listdir(source_path)\n",
    "        file = random.choice(files)\n",
    "        shutil.move(os.path.join(TRAIN_PATH, file), os.path.join(destination_path, file))\n",
    "        count += 1\n",
    "        similiar_files = get_similiar_files(file, TRAIN_PATH)\n",
    "        for similiar_file in similiar_files:\n",
    "            shutil.move(os.path.join(TRAIN_PATH, similiar_file), os.path.join(destination_path, similiar_file))\n",
    "            count += 1\n",
    "\n",
    "\n",
    "def create_test_val_sets(\n",
    "        source_path: str, percentage_val: float, percentage_test: float, val_path: str, test_path: str\n",
    "):\n",
    "    files = os.listdir(source_path)\n",
    "    split_index_val = int(len(files) * percentage_val)\n",
    "    split_index_test = int(len(files) * percentage_test)\n",
    "\n",
    "    split_dataset(split_index_val, source_path, val_path)\n",
    "    split_dataset(split_index_test, source_path, test_path)"
   ]
  },
  {
   "cell_type": "code",
   "execution_count": 9,
   "id": "4f56c14c-fb12-4bca-b6bb-39724df4c1b9",
   "metadata": {},
   "outputs": [],
   "source": [
    "create_test_val_sets(source_path=TRAIN_PATH, percentage_val=0.15, percentage_test=0.15, val_path=VAL_PATH, test_path=TEST_PATH)"
   ]
  },
  {
   "cell_type": "code",
   "execution_count": null,
   "id": "93be034e-6235-4171-b9be-c8b978b46cba",
   "metadata": {},
   "outputs": [],
   "source": []
  }
 ],
 "metadata": {
  "kernelspec": {
   "display_name": "Python 3 (ipykernel)",
   "language": "python",
   "name": "python3"
  },
  "language_info": {
   "codemirror_mode": {
    "name": "ipython",
    "version": 3
   },
   "file_extension": ".py",
   "mimetype": "text/x-python",
   "name": "python",
   "nbconvert_exporter": "python",
   "pygments_lexer": "ipython3",
   "version": "3.10.6"
  }
 },
 "nbformat": 4,
 "nbformat_minor": 5
}
