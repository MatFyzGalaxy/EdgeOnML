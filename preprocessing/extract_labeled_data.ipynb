{
 "cells": [
  {
   "cell_type": "code",
   "execution_count": null,
   "id": "65291434-6f62-446e-9be1-e8df1c4a3c0b",
   "metadata": {},
   "outputs": [],
   "source": [
    "import os\n",
    "import shutil"
   ]
  },
  {
   "cell_type": "code",
   "execution_count": null,
   "id": "d00ed6b3-e20c-4082-b82c-0fd904f156d2",
   "metadata": {},
   "outputs": [],
   "source": [
    "LABELS = '../data/dataset_labels'\n",
    "IMAGES = '../data/dataset'\n",
    "DESTINATION = '../data/labeled_dataset'"
   ]
  },
  {
   "cell_type": "code",
   "execution_count": null,
   "id": "816dae98-3daa-41c4-ad8c-d169ccc9d0f8",
   "metadata": {},
   "outputs": [],
   "source": [
    "def copy_image(image_name: str):\n",
    "    image_path = os.path.join(IMAGES, image_name + '.jpg')\n",
    "    # copy image from IMAGES to DESTINATION\n",
    "    shutil.copy(image_path, DESTINATION)\n",
    "\n",
    "\n",
    "def create_labeled_dataset():\n",
    "    labels = os.listdir(LABELS)\n",
    "    for label in labels:\n",
    "        label_name = label.split('.')[0]\n",
    "        copy_image(label_name)\n",
    "        "
   ]
  },
  {
   "cell_type": "code",
   "execution_count": null,
   "id": "9a075aa0-5700-48ac-822b-86587dc51900",
   "metadata": {},
   "outputs": [],
   "source": [
    "create_labeled_dataset()"
   ]
  },
  {
   "cell_type": "code",
   "execution_count": null,
   "id": "da24e255-c294-4e2e-a002-609bbcd5cb8a",
   "metadata": {},
   "outputs": [],
   "source": [
    "TEST_SET = '../yolo/data/test/images'\n",
    "FIT_PATH = '../data/dataset_source'\n",
    "DESTINATION = '../data/test_set_fit'"
   ]
  },
  {
   "cell_type": "code",
   "execution_count": null,
   "id": "44e5c822-6029-428d-b00b-5e988d651c04",
   "metadata": {},
   "outputs": [],
   "source": [
    "def copy_fit(fit_name: str):\n",
    "    fit_path = os.path.join(FIT_PATH, fit_name + '.fit.gz')\n",
    "    # copy image from IMAGES to DESTINATION\n",
    "    shutil.copy(fit_path, DESTINATION)\n",
    "\n",
    "\n",
    "def create_test_dataset():\n",
    "    images = os.listdir(TEST_SET)\n",
    "    for image in images:\n",
    "        image_name = image.split('.')[0]\n",
    "        copy_fit(image_name)"
   ]
  },
  {
   "cell_type": "code",
   "execution_count": null,
   "id": "f79ffd9d-333b-48b9-8ddf-e2a614f91346",
   "metadata": {},
   "outputs": [],
   "source": [
    "create_test_dataset()"
   ]
  },
  {
   "cell_type": "code",
   "execution_count": null,
   "id": "fa418e6a-cce1-45c7-b878-179129010ef7",
   "metadata": {},
   "outputs": [],
   "source": []
  }
 ],
 "metadata": {
  "kernelspec": {
   "display_name": "Python 3 (ipykernel)",
   "language": "python",
   "name": "python3"
  },
  "language_info": {
   "codemirror_mode": {
    "name": "ipython",
    "version": 3
   },
   "file_extension": ".py",
   "mimetype": "text/x-python",
   "name": "python",
   "nbconvert_exporter": "python",
   "pygments_lexer": "ipython3",
   "version": "3.10.6"
  }
 },
 "nbformat": 4,
 "nbformat_minor": 5
}
