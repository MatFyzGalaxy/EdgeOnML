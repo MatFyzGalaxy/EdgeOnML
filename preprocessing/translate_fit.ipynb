{
 "cells": [
  {
   "cell_type": "code",
   "execution_count": null,
   "id": "c0ddeb5d-bd52-40a3-b789-ac9a4d791203",
   "metadata": {},
   "outputs": [],
   "source": [
    "!pip install astropy==5.1.1"
   ]
  },
  {
   "cell_type": "code",
   "execution_count": null,
   "id": "6ba3f2cd-26b0-469b-b295-b324cd1452e2",
   "metadata": {},
   "outputs": [],
   "source": [
    "!pip install aplpy"
   ]
  },
  {
   "cell_type": "code",
   "execution_count": null,
   "id": "d80a9955-e36c-4395-8bef-7e8fec40ebc4",
   "metadata": {},
   "outputs": [],
   "source": [
    "import matplotlib.pyplot as plt\n",
    "import aplpy\n",
    "import os"
   ]
  },
  {
   "cell_type": "code",
   "execution_count": null,
   "id": "6bed2c9d-4403-4c07-aed3-15efce412d39",
   "metadata": {},
   "outputs": [],
   "source": [
    "import threading"
   ]
  },
  {
   "cell_type": "code",
   "execution_count": null,
   "id": "73dd9d82-ce79-403c-a5dc-9803b8695bf9",
   "metadata": {},
   "outputs": [],
   "source": [
    "path = '../data/dataset_source/'\n",
    "destination = '../yolo/data/all/images/'\n",
    "\n",
    "def convert_data():\n",
    "    i = 0\n",
    "\n",
    "    for index, file in enumerate(os.listdir(path)):\n",
    "        file_name = file.split(\".\")[0]\n",
    "\n",
    "        if i < 12900:\n",
    "            i += 1\n",
    "            continue\n",
    "        if file_name + '.jpg' in os.listdir(destination):\n",
    "            continue\n",
    "\n",
    "\n",
    "        #gc = aplpy.FITSFigure(path + file).show_grayscale(invert=False, stretch='power', exponent=0.5,pmin=10,pmax=90)\n",
    "        gc = aplpy.FITSFigure(path + file).show_grayscale(invert=False, stretch='power', exponent=0.5)\n",
    "        plt.gca().set_axis_off()\n",
    "        plt.subplots_adjust(top=1, bottom=0, right=1, left=0,\n",
    "                            hspace=0, wspace=0)\n",
    "        plt.margins(0, 0)\n",
    "        plt.gca().xaxis.set_major_locator(plt.NullLocator())\n",
    "        plt.gca().yaxis.set_major_locator(plt.NullLocator())\n",
    "\n",
    "        plt.savefig(destination + '{}.jpg'.format(file_name), format='jpg', bbox_inches='tight', pad_inches=0)\n",
    "        \n",
    "convert_data()"
   ]
  },
  {
   "cell_type": "code",
   "execution_count": null,
   "id": "a28e69cf-4e14-489b-9c6d-f63a68afbab1",
   "metadata": {},
   "outputs": [],
   "source": [
    "t1 = threading.Thread(target=convert_data)\n",
    "t1.start()\n",
    "t1.join()"
   ]
  }
 ],
 "metadata": {
  "kernelspec": {
   "display_name": "Python 3 (ipykernel)",
   "language": "python",
   "name": "python3"
  },
  "language_info": {
   "codemirror_mode": {
    "name": "ipython",
    "version": 3
   },
   "file_extension": ".py",
   "mimetype": "text/x-python",
   "name": "python",
   "nbconvert_exporter": "python",
   "pygments_lexer": "ipython3",
   "version": "3.10.6"
  }
 },
 "nbformat": 4,
 "nbformat_minor": 5
}
