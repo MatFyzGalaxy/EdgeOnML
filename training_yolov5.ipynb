{
 "cells": [
  {
   "cell_type": "markdown",
   "id": "08d6fadb-e8a4-4dc3-a9e8-039846215cce",
   "metadata": {},
   "source": [
    "# Setup YOLOv5"
   ]
  },
  {
   "cell_type": "code",
   "execution_count": null,
   "id": "6ca23190-e83c-46bb-9056-359582a7392f",
   "metadata": {},
   "outputs": [],
   "source": [
    "!git clone https://github.com/ultralytics/yolov5  # clone\n",
    "%cd yolov5\n",
    "%pip install -qr requirements.txt  # install\n",
    "\n",
    "import torch\n",
    "import utils\n",
    "display = utils.notebook_init()  # checks"
   ]
  },
  {
   "cell_type": "markdown",
   "id": "87ae0fb5-5a46-45c2-b50c-1b940f0be18b",
   "metadata": {},
   "source": [
    "# Detect images"
   ]
  },
  {
   "cell_type": "code",
   "execution_count": null,
   "id": "85b6083f-c592-4245-95cc-b85a19b9f365",
   "metadata": {},
   "outputs": [],
   "source": [
    "!python yolov5/detect.py --source /data/images --weights data/exp54/weights/best.pt --iou 0.25 --conf 0.3 --img 1280 --save-txt --save-conf"
   ]
  },
  {
   "cell_type": "markdown",
   "id": "90c4f74b-4748-42f1-98bc-85ecdb2dcab3",
   "metadata": {},
   "source": []
  },
  {
   "cell_type": "code",
   "execution_count": null,
   "id": "9d7416ab-704a-469f-a413-e51232d14600",
   "metadata": {},
   "outputs": [],
   "source": []
  }
 ],
 "metadata": {
  "kernelspec": {
   "display_name": "Python 3 (ipykernel)",
   "language": "python",
   "name": "python3"
  },
  "language_info": {
   "codemirror_mode": {
    "name": "ipython",
    "version": 3
   },
   "file_extension": ".py",
   "mimetype": "text/x-python",
   "name": "python",
   "nbconvert_exporter": "python",
   "pygments_lexer": "ipython3",
   "version": "3.10.6"
  }
 },
 "nbformat": 4,
 "nbformat_minor": 5
}
